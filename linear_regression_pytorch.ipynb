{
  "nbformat": 4,
  "nbformat_minor": 0,
  "metadata": {
    "colab": {
      "name": "linear-regression-pytorch",
      "provenance": [],
      "collapsed_sections": [],
      "authorship_tag": "ABX9TyPqWkTeWwagf/QM4QtEC/df",
      "include_colab_link": true
    },
    "kernelspec": {
      "name": "python3",
      "display_name": "Python 3"
    }
  },
  "cells": [
    {
      "cell_type": "markdown",
      "metadata": {
        "id": "view-in-github",
        "colab_type": "text"
      },
      "source": [
        "<a href=\"https://colab.research.google.com/github/MasonWang025/ai-club-materials/blob/main/linear_regression_pytorch.ipynb\" target=\"_parent\"><img src=\"https://colab.research.google.com/assets/colab-badge.svg\" alt=\"Open In Colab\"/></a>"
      ]
    },
    {
      "cell_type": "markdown",
      "metadata": {
        "id": "7ZF460Td0xdV"
      },
      "source": [
        "#Linear Regression with PyTorch\n",
        "\n",
        "Predict *target variables* from *input variables*. \n",
        "\n",
        "To demo:\n",
        "\n",
        "**Target variable:** apple & orange crop yields\n",
        "**Input variables/features:** avg. temp, rainfall, humidity\n",
        "\n",
        "**Given** avg. temp, rainfall, and humidity, **predict** apple & orange crop yields,\n",
        "\n",
        "```\n",
        "apple_yield = w11*temp + w12*rainfall + w13*humidity + b1\n",
        "orange_yield = w21*temp + w22*rainfall + w23*humidity + b2\n",
        "```\n",
        "\n",
        "[3D linear regression](https://www.google.com/search?q=3d+linear+regression&sxsrf=ALeKk01RnS1CXqDXDdhNwRhedY_p4dHclA:1605845888673&source=lnms&tbm=isch&sa=X&ved=2ahUKEwjphoiOopDtAhXkJzQIHSfoADYQ_AUoAXoECAkQAw&cshid=1605845892324149&biw=1536&bih=722)\n",
        "\n",
        "![data](https://i.imgur.com/6Ujttb4.png)"
      ]
    },
    {
      "cell_type": "markdown",
      "metadata": {
        "id": "sB1qR-uj3bFw"
      },
      "source": [
        "**Each target variable is estimated to be a weighted sum of input variables.**\n",
        "\n",
        "The learning part is to figure out the weights and biases that lead to best predictions."
      ]
    },
    {
      "cell_type": "code",
      "metadata": {
        "id": "tu5FQWGq0pSo"
      },
      "source": [
        "import numpy as np\n",
        "import torch"
      ],
      "execution_count": 1,
      "outputs": []
    },
    {
      "cell_type": "code",
      "metadata": {
        "id": "Zz-L-dVw3vEA"
      },
      "source": [
        "# input (temp, rainfall, humidity)\n",
        "inputs = np.array([[73, 67, 43],\n",
        "                  [91, 88, 64],\n",
        "                  [87, 134, 58],\n",
        "                  [102, 43, 37],\n",
        "                  [69, 96, 70]], dtype=\"float32\")\n",
        "# targets (apples, oranges)\n",
        "targets = np.array([[56, 70], \n",
        "                    [81, 101], \n",
        "                    [119, 133], \n",
        "                    [22, 37], \n",
        "                    [103, 119]], dtype='float32')\n",
        "# for simplicity purposes; typically would be from csv file or database\n",
        "# inputs, targets "
      ],
      "execution_count": 2,
      "outputs": []
    },
    {
      "cell_type": "code",
      "metadata": {
        "id": "UJjR7E9I34Yu"
      },
      "source": [
        " # numpy interoperability\n",
        " inputs = torch.from_numpy(inputs)\n",
        " targets = torch.from_numpy(targets)\n",
        " # inputs, targets "
      ],
      "execution_count": 3,
      "outputs": []
    },
    {
      "cell_type": "markdown",
      "metadata": {
        "id": "z4gOHJST4-R-"
      },
      "source": [
        "#Linear Regression from Scratch\n"
      ]
    },
    {
      "cell_type": "code",
      "metadata": {
        "colab": {
          "base_uri": "https://localhost:8080/"
        },
        "id": "vgCO0urE4vpd",
        "outputId": "c38e4524-8d01-49b1-bc87-299ddec159e2"
      },
      "source": [
        "# weights and biases represented as tensors, randomly initialized\n",
        "w = torch.randn(2, 3, requires_grad=True) # nx3 * 3x2 (2x3 transposed) = mx2\n",
        "b = torch.randn(2, requires_grad=True)\n",
        "print(w)\n",
        "print(b)"
      ],
      "execution_count": 4,
      "outputs": [
        {
          "output_type": "stream",
          "text": [
            "tensor([[-0.3359, -0.7289,  0.2834],\n",
            "        [-0.0224, -0.2223, -0.0199]], requires_grad=True)\n",
            "tensor([0.9824, 0.0953], requires_grad=True)\n"
          ],
          "name": "stdout"
        }
      ]
    },
    {
      "cell_type": "markdown",
      "metadata": {
        "id": "az6glHk27YVQ"
      },
      "source": [
        "![matrix-mult](https://machinethink.net/images/mps-matrix-multiplication/MatrixMultiplication@2x.png)"
      ]
    },
    {
      "cell_type": "code",
      "metadata": {
        "id": "ntG0j_lZ7I0n"
      },
      "source": [
        "def model(x):\n",
        "  return x @w.t() + b"
      ],
      "execution_count": 5,
      "outputs": []
    },
    {
      "cell_type": "code",
      "metadata": {
        "colab": {
          "base_uri": "https://localhost:8080/"
        },
        "id": "wMVhkukQ8Te3",
        "outputId": "ba6855ed-3c8a-4100-a922-92d2d79196ef"
      },
      "source": [
        "preds = model(inputs)\n",
        "# print(inputs) \n",
        "print(preds) # utter trash\n",
        "print(targets)"
      ],
      "execution_count": 6,
      "outputs": [
        {
          "output_type": "stream",
          "text": [
            "tensor([[ -60.1852,  -17.2876],\n",
            "        [ -75.5858,  -22.7767],\n",
            "        [-109.4712,  -32.7912],\n",
            "        [ -54.1333,  -12.4831],\n",
            "        [ -72.3269,  -24.1819]], grad_fn=<AddBackward0>)\n",
            "tensor([[ 56.,  70.],\n",
            "        [ 81., 101.],\n",
            "        [119., 133.],\n",
            "        [ 22.,  37.],\n",
            "        [103., 119.]])\n"
          ],
          "name": "stdout"
        }
      ]
    },
    {
      "cell_type": "code",
      "metadata": {
        "id": "MbSEhyOP8WO8"
      },
      "source": [
        "# utter trash, but exactly how trash?\n",
        "def mse(preds, targets):\n",
        "  diff = preds - targets # calc differences\n",
        "  return torch.sum(diff * diff) / diff.numel() # squaring to remove neg (better than abs)"
      ],
      "execution_count": 7,
      "outputs": []
    },
    {
      "cell_type": "code",
      "metadata": {
        "colab": {
          "base_uri": "https://localhost:8080/"
        },
        "id": "sUET_uBy9C3D",
        "outputId": "89c4a886-8766-4b0d-d971-f36e80b20240"
      },
      "source": [
        "loss = mse(preds, targets)\n",
        "loss # (really trash)"
      ],
      "execution_count": 8,
      "outputs": [
        {
          "output_type": "execute_result",
          "data": {
            "text/plain": [
              "tensor(20012.9180, grad_fn=<DivBackward0>)"
            ]
          },
          "metadata": {
            "tags": []
          },
          "execution_count": 8
        }
      ]
    },
    {
      "cell_type": "markdown",
      "metadata": {
        "id": "zLliGEZR9qYQ"
      },
      "source": [
        "\n",
        "[gradient-img](https://www.google.com/search?q=gradient+descent&tbm=isch&ved=2ahUKEwjPiOzQp5DtAhWJnZ4KHfO7APAQ2-cCegQIABAA&oq=gradient+descent&gs_lcp=CgNpbWcQAzIFCAAQsQMyAggAMgIIADICCAAyAggAMgIIADICCAAyAggAMgIIADICCAA6BggAEAUQHjoGCAAQCBAeUJMFWPcjYOYmaANwAHgAgAFriAHCBpIBBDExLjGYAQCgAQGqAQtnd3Mtd2l6LWltZ8ABAQ&sclient=img&ei=Skm3X8-7Nom7-gTz94KADw&bih=722&biw=1536)\n",
        "[threeblueonebrown-vid](https://youtu.be/IHZwWFHWa-w?t=322)"
      ]
    },
    {
      "cell_type": "code",
      "metadata": {
        "colab": {
          "base_uri": "https://localhost:8080/"
        },
        "id": "1xVXTPav9IH5",
        "outputId": "3d591637-3ef6-43aa-bb9e-2776da09f4e7"
      },
      "source": [
        "# now, compute gradients wrt to weights and biases\n",
        "loss.backward()\n",
        "print(w.grad)"
      ],
      "execution_count": 9,
      "outputs": [
        {
          "output_type": "stream",
          "text": [
            "tensor([[-12494.1953, -14456.8428,  -8671.7207],\n",
            "        [ -9397.2676, -10965.9746,  -6628.9155]])\n"
          ],
          "name": "stdout"
        }
      ]
    },
    {
      "cell_type": "code",
      "metadata": {
        "colab": {
          "base_uri": "https://localhost:8080/"
        },
        "id": "sS72bR2x9Yuo",
        "outputId": "de610140-4ba0-45b7-a207-c23b5e7e01cd"
      },
      "source": [
        "# reset so gradients don't accumulate\n",
        "w.grad.zero_()\n",
        "b.grad.zero_()\n",
        "print(w.grad)\n",
        "print(b.grad)"
      ],
      "execution_count": 10,
      "outputs": [
        {
          "output_type": "stream",
          "text": [
            "tensor([[0., 0., 0.],\n",
            "        [0., 0., 0.]])\n",
            "tensor([0., 0.])\n"
          ],
          "name": "stdout"
        }
      ]
    },
    {
      "cell_type": "markdown",
      "metadata": {
        "id": "Sb9UTy8g-sr-"
      },
      "source": [
        "#Gradient Descent\n",
        "Goal is to find set of weights and biases where loss is lowest. Update based on computed gradient.\n",
        "\n",
        "**Idea: move in direction opposite of derivative to decrease loss.**\n",
        "\n",
        "1. Generate predictions\n",
        "2. Calculate loss\n",
        "3. Compute gradients of weights and biases\n",
        "4. Adjust weights by subtracting a small quantity proportional to gradient\n",
        "5. Reset gradients to zero"
      ]
    },
    {
      "cell_type": "code",
      "metadata": {
        "colab": {
          "base_uri": "https://localhost:8080/"
        },
        "id": "D85uO9_P-YOJ",
        "outputId": "d270c140-6607-4bee-b605-4222ad4c91c7"
      },
      "source": [
        "# 1: predict\n",
        "preds = model(inputs)\n",
        "# 2: loss\n",
        "loss = mse(preds, targets)\n",
        "print(loss)\n",
        "# 3: gradients\n",
        "loss.backward() # w.grad, b.grad\n",
        "# 4 & 5: adjust and reset\n",
        "with torch.no_grad():\n",
        "    w -= w.grad * 1e-5 # 1e-5 is called learning rate\n",
        "    b -= b.grad * 1e-5\n",
        "    w.grad.zero_()\n",
        "    b.grad.zero_()\n",
        "print(mse(model(inputs), targets))"
      ],
      "execution_count": 11,
      "outputs": [
        {
          "output_type": "stream",
          "text": [
            "tensor(20012.9180, grad_fn=<DivBackward0>)\n",
            "tensor(13704.1611, grad_fn=<DivBackward0>)\n"
          ],
          "name": "stdout"
        }
      ]
    },
    {
      "cell_type": "code",
      "metadata": {
        "colab": {
          "base_uri": "https://localhost:8080/"
        },
        "id": "n7lw7edN-1kI",
        "outputId": "23fff50f-b04a-4543-f154-c2cc68185689"
      },
      "source": [
        "for i in range(100): # called epochs, training for 100 epochs\n",
        "  preds = model(inputs)\n",
        "  loss = mse(preds, targets)\n",
        "  loss.backward()\n",
        "  with torch.no_grad():\n",
        "      w -= w.grad * 1e-5\n",
        "      b -= b.grad * 1e-5\n",
        "      w.grad.zero_()\n",
        "      b.grad.zero_()\n",
        "\n",
        "print(mse(model(inputs), targets))\n",
        "\n",
        "# they are close!!\n",
        "print(preds)\n",
        "print(targets)"
      ],
      "execution_count": 12,
      "outputs": [
        {
          "output_type": "stream",
          "text": [
            "tensor(201.1277, grad_fn=<DivBackward0>)\n",
            "tensor([[ 61.8456,  74.6797],\n",
            "        [ 86.8689, 100.3502],\n",
            "        [100.5687, 126.6601],\n",
            "        [ 47.4759,  61.9916],\n",
            "        [ 94.8228, 104.0255]], grad_fn=<AddBackward0>)\n",
            "tensor([[ 56.,  70.],\n",
            "        [ 81., 101.],\n",
            "        [119., 133.],\n",
            "        [ 22.,  37.],\n",
            "        [103., 119.]])\n"
          ],
          "name": "stdout"
        }
      ]
    },
    {
      "cell_type": "markdown",
      "metadata": {
        "id": "lPbkiJXCBgP5"
      },
      "source": [
        "#Pytorch built-ins"
      ]
    },
    {
      "cell_type": "code",
      "metadata": {
        "id": "ny0mhk7gA2FQ"
      },
      "source": [
        "import torch.nn as nn"
      ],
      "execution_count": 13,
      "outputs": []
    },
    {
      "cell_type": "code",
      "metadata": {
        "colab": {
          "base_uri": "https://localhost:8080/"
        },
        "id": "MzKJ0DRoBoLk",
        "outputId": "71c87e2b-0836-4946-92cd-7a1ba0e55e0b"
      },
      "source": [
        "# input (temp, rainfall, humidity)\n",
        "inputs = np.array([[73, 67, 43], [91, 88, 64], [87, 134, 58], \n",
        "                   [102, 43, 37], [69, 96, 70], [73, 67, 43], \n",
        "                   [91, 88, 64], [87, 134, 58], [102, 43, 37], \n",
        "                   [69, 96, 70], [73, 67, 43], [91, 88, 64], \n",
        "                   [87, 134, 58], [102, 43, 37], [69, 96, 70]], \n",
        "                  dtype='float32')\n",
        "\n",
        "# targets (apples, oranges)\n",
        "targets = np.array([[56, 70], [81, 101], [119, 133], \n",
        "                    [22, 37], [103, 119], [56, 70], \n",
        "                    [81, 101], [119, 133], [22, 37], \n",
        "                    [103, 119], [56, 70], [81, 101], \n",
        "                    [119, 133], [22, 37], [103, 119]], \n",
        "                   dtype='float32')\n",
        "\n",
        "inputs = torch.from_numpy(inputs)\n",
        "targets = torch.from_numpy(targets)\n",
        "\n",
        "inputs # 15 examples"
      ],
      "execution_count": 14,
      "outputs": [
        {
          "output_type": "execute_result",
          "data": {
            "text/plain": [
              "tensor([[ 73.,  67.,  43.],\n",
              "        [ 91.,  88.,  64.],\n",
              "        [ 87., 134.,  58.],\n",
              "        [102.,  43.,  37.],\n",
              "        [ 69.,  96.,  70.],\n",
              "        [ 73.,  67.,  43.],\n",
              "        [ 91.,  88.,  64.],\n",
              "        [ 87., 134.,  58.],\n",
              "        [102.,  43.,  37.],\n",
              "        [ 69.,  96.,  70.],\n",
              "        [ 73.,  67.,  43.],\n",
              "        [ 91.,  88.,  64.],\n",
              "        [ 87., 134.,  58.],\n",
              "        [102.,  43.,  37.],\n",
              "        [ 69.,  96.,  70.]])"
            ]
          },
          "metadata": {
            "tags": []
          },
          "execution_count": 14
        }
      ]
    },
    {
      "cell_type": "code",
      "metadata": {
        "colab": {
          "base_uri": "https://localhost:8080/"
        },
        "id": "khIjHDdOBtY4",
        "outputId": "122b775e-7f9c-40a9-c843-996b33ccb708"
      },
      "source": [
        "# TensorDataset\n",
        "from torch.utils.data import TensorDataset\n",
        "\n",
        "train_ds = TensorDataset(inputs, targets)\n",
        "train_ds[2:5]"
      ],
      "execution_count": 15,
      "outputs": [
        {
          "output_type": "execute_result",
          "data": {
            "text/plain": [
              "(tensor([[ 87., 134.,  58.],\n",
              "         [102.,  43.,  37.],\n",
              "         [ 69.,  96.,  70.]]), tensor([[119., 133.],\n",
              "         [ 22.,  37.],\n",
              "         [103., 119.]]))"
            ]
          },
          "metadata": {
            "tags": []
          },
          "execution_count": 15
        }
      ]
    },
    {
      "cell_type": "code",
      "metadata": {
        "id": "gAf-WGqgCB9d"
      },
      "source": [
        "# DataLoader\n",
        "from torch.utils.data import DataLoader\n",
        "\n",
        "batch_size = 5\n",
        "train_dl = DataLoader(train_ds, batch_size, shuffle=True) # pass in TensorDataset train_ds"
      ],
      "execution_count": 16,
      "outputs": []
    },
    {
      "cell_type": "code",
      "metadata": {
        "colab": {
          "base_uri": "https://localhost:8080/"
        },
        "id": "Rn-ZlxE_CLoT",
        "outputId": "0ae2497b-e9f9-48bb-9e4a-ce11da907565"
      },
      "source": [
        "for xb, yb in train_dl: # batches of 5!\n",
        "  print(xb)\n",
        "  print(yb)\n",
        "  break"
      ],
      "execution_count": 17,
      "outputs": [
        {
          "output_type": "stream",
          "text": [
            "tensor([[ 87., 134.,  58.],\n",
            "        [102.,  43.,  37.],\n",
            "        [ 73.,  67.,  43.],\n",
            "        [ 73.,  67.,  43.],\n",
            "        [102.,  43.,  37.]])\n",
            "tensor([[119., 133.],\n",
            "        [ 22.,  37.],\n",
            "        [ 56.,  70.],\n",
            "        [ 56.,  70.],\n",
            "        [ 22.,  37.]])\n"
          ],
          "name": "stdout"
        }
      ]
    },
    {
      "cell_type": "code",
      "metadata": {
        "colab": {
          "base_uri": "https://localhost:8080/"
        },
        "id": "ISAs182JCSfq",
        "outputId": "f0d7a3dd-a979-4f88-b332-ccb463c65767"
      },
      "source": [
        "model = nn.Linear(3, 2)\n",
        "\n",
        "#model.weight, model.bias\n",
        "list(model.parameters())"
      ],
      "execution_count": 18,
      "outputs": [
        {
          "output_type": "execute_result",
          "data": {
            "text/plain": [
              "[Parameter containing:\n",
              " tensor([[-0.2159, -0.5317,  0.1585],\n",
              "         [-0.0622,  0.4129,  0.2038]], requires_grad=True),\n",
              " Parameter containing:\n",
              " tensor([0.1015, 0.4506], requires_grad=True)]"
            ]
          },
          "metadata": {
            "tags": []
          },
          "execution_count": 18
        }
      ]
    },
    {
      "cell_type": "code",
      "metadata": {
        "colab": {
          "base_uri": "https://localhost:8080/"
        },
        "id": "X9Mr7-EtCa76",
        "outputId": "abb2c8bd-9010-4b30-f6a1-667bf7438994"
      },
      "source": [
        "preds = model(inputs)\n",
        "preds"
      ],
      "execution_count": 19,
      "outputs": [
        {
          "output_type": "execute_result",
          "data": {
            "text/plain": [
              "tensor([[-44.4657,  32.3338],\n",
              "        [-56.1884,  44.1636],\n",
              "        [-80.7355,  62.1830],\n",
              "        [-38.9157,  19.3970],\n",
              "        [-54.7419,  50.0585],\n",
              "        [-44.4657,  32.3338],\n",
              "        [-56.1884,  44.1636],\n",
              "        [-80.7355,  62.1830],\n",
              "        [-38.9157,  19.3970],\n",
              "        [-54.7419,  50.0585],\n",
              "        [-44.4657,  32.3338],\n",
              "        [-56.1884,  44.1636],\n",
              "        [-80.7355,  62.1830],\n",
              "        [-38.9157,  19.3970],\n",
              "        [-54.7419,  50.0585]], grad_fn=<AddmmBackward>)"
            ]
          },
          "metadata": {
            "tags": []
          },
          "execution_count": 19
        }
      ]
    },
    {
      "cell_type": "code",
      "metadata": {
        "colab": {
          "base_uri": "https://localhost:8080/"
        },
        "id": "qJpm3-_LCwTw",
        "outputId": "51b1e122-f61f-4ed6-bd27-6977f2181117"
      },
      "source": [
        "# Loss func\n",
        "import torch.nn.functional as F\n",
        "loss_fn = F.mse_loss\n",
        "\n",
        "loss = loss_fn(model(inputs), targets)\n",
        "loss"
      ],
      "execution_count": 20,
      "outputs": [
        {
          "output_type": "execute_result",
          "data": {
            "text/plain": [
              "tensor(11212.8486, grad_fn=<MseLossBackward>)"
            ]
          },
          "metadata": {
            "tags": []
          },
          "execution_count": 20
        }
      ]
    },
    {
      "cell_type": "code",
      "metadata": {
        "id": "Z5TF5UjRDCZw"
      },
      "source": [
        "# optimization\n",
        "opt = torch.optim.SGD(model.parameters(), lr=1e-5)"
      ],
      "execution_count": 21,
      "outputs": []
    },
    {
      "cell_type": "code",
      "metadata": {
        "id": "AhLTxXY8DU13"
      },
      "source": [
        "def fit(num_epochs, model, loss_fn, opt, train_dl):    \n",
        "    for epoch in range(num_epochs):\n",
        "        # each epoch, we go through entire training set once\n",
        "        for xb,yb in train_dl:          \n",
        "            # 1: predict\n",
        "            pred = model(xb)\n",
        "            # 2: loss\n",
        "            loss = loss_fn(pred, yb)\n",
        "            # 3: gradient\n",
        "            loss.backward()\n",
        "            # 4: update\n",
        "            opt.step()\n",
        "            # 5: reset \n",
        "            opt.zero_grad()\n",
        "        \n",
        "        # print progress\n",
        "        if (epoch+1) % 10 == 0: # every 10 epochs\n",
        "            print('Epoch [{}/{}], Loss: {:.4f}'.format(epoch+1, num_epochs, loss.item()))"
      ],
      "execution_count": 22,
      "outputs": []
    },
    {
      "cell_type": "code",
      "metadata": {
        "colab": {
          "base_uri": "https://localhost:8080/"
        },
        "id": "kLACz9u5DsMw",
        "outputId": "87771c2e-fbbf-4f82-f761-ee22edaacf73"
      },
      "source": [
        "fit(100, model, loss_fn, opt, train_dl)"
      ],
      "execution_count": 23,
      "outputs": [
        {
          "output_type": "stream",
          "text": [
            "Epoch [10/100], Loss: 130.7594\n",
            "Epoch [20/100], Loss: 199.4286\n",
            "Epoch [30/100], Loss: 156.3750\n",
            "Epoch [40/100], Loss: 74.9346\n",
            "Epoch [50/100], Loss: 41.6042\n",
            "Epoch [60/100], Loss: 42.0286\n",
            "Epoch [70/100], Loss: 40.5651\n",
            "Epoch [80/100], Loss: 27.9304\n",
            "Epoch [90/100], Loss: 15.4286\n",
            "Epoch [100/100], Loss: 20.4979\n"
          ],
          "name": "stdout"
        }
      ]
    },
    {
      "cell_type": "code",
      "metadata": {
        "colab": {
          "base_uri": "https://localhost:8080/"
        },
        "id": "NhiW_9r8Duap",
        "outputId": "afe3fc88-77eb-4273-ce0b-c20b4231fd7e"
      },
      "source": [
        "preds = model(inputs)\n",
        "print(preds)\n",
        "print(targets)  "
      ],
      "execution_count": 24,
      "outputs": [
        {
          "output_type": "stream",
          "text": [
            "tensor([[ 58.3951,  71.2228],\n",
            "        [ 82.9493,  98.1140],\n",
            "        [114.7682, 136.9236],\n",
            "        [ 28.3263,  41.8695],\n",
            "        [ 99.0234, 111.9749],\n",
            "        [ 58.3951,  71.2228],\n",
            "        [ 82.9493,  98.1140],\n",
            "        [114.7682, 136.9236],\n",
            "        [ 28.3263,  41.8695],\n",
            "        [ 99.0234, 111.9749],\n",
            "        [ 58.3951,  71.2228],\n",
            "        [ 82.9493,  98.1140],\n",
            "        [114.7682, 136.9236],\n",
            "        [ 28.3263,  41.8695],\n",
            "        [ 99.0234, 111.9749]], grad_fn=<AddmmBackward>)\n",
            "tensor([[ 56.,  70.],\n",
            "        [ 81., 101.],\n",
            "        [119., 133.],\n",
            "        [ 22.,  37.],\n",
            "        [103., 119.],\n",
            "        [ 56.,  70.],\n",
            "        [ 81., 101.],\n",
            "        [119., 133.],\n",
            "        [ 22.,  37.],\n",
            "        [103., 119.],\n",
            "        [ 56.,  70.],\n",
            "        [ 81., 101.],\n",
            "        [119., 133.],\n",
            "        [ 22.,  37.],\n",
            "        [103., 119.]])\n"
          ],
          "name": "stdout"
        }
      ]
    },
    {
      "cell_type": "markdown",
      "metadata": {
        "id": "IhK6CkCrD7YV"
      },
      "source": [
        "#Congrats!\n",
        "You've just built and trained a linear regression model."
      ]
    }
  ]
}