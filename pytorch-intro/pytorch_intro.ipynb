{
  "nbformat": 4,
  "nbformat_minor": 0,
  "metadata": {
    "colab": {
      "name": "pytorch-intro.ipynb",
      "provenance": [],
      "authorship_tag": "ABX9TyOsKAYwm8Ht7gm5uF31DygW",
      "include_colab_link": true
    },
    "kernelspec": {
      "name": "python3",
      "display_name": "Python 3"
    }
  },
  "cells": [
    {
      "cell_type": "markdown",
      "metadata": {
        "id": "view-in-github",
        "colab_type": "text"
      },
      "source": [
        "<a href=\"https://colab.research.google.com/github/MasonWang025/ai-club-materials/blob/main/pytorch-intro/pytorch_intro.ipynb\" target=\"_parent\"><img src=\"https://colab.research.google.com/assets/colab-badge.svg\" alt=\"Open In Colab\"/></a>"
      ]
    },
    {
      "cell_type": "code",
      "metadata": {
        "id": "8IvFIlIpyFeS"
      },
      "source": [
        "import torch"
      ],
      "execution_count": 1,
      "outputs": []
    },
    {
      "cell_type": "markdown",
      "metadata": {
        "id": "1e3v3QG12VUg"
      },
      "source": [
        "#Tensors\n",
        "Tensor describe an n-dimensional array (can be numbers, vectors, matrices, etc.).\n",
        "\n",
        "All elements in the tensor have the same data type.\n",
        "\n",
        "Dimensions are accessed by any tensor's `.shape` property."
      ]
    },
    {
      "cell_type": "code",
      "metadata": {
        "id": "JQ8-f5Uw0Zhe",
        "colab": {
          "base_uri": "https://localhost:8080/"
        },
        "outputId": "c59b7271-f652-468a-ecde-5db4ac26237a"
      },
      "source": [
        "# basic tensors\n",
        "# number\n",
        "t1 = torch.tensor(4.)\n",
        "print(\"number:\", t1, t1.dtype, t1.shape)\n",
        "\n",
        "# vectors\n",
        "t2 = torch.tensor([1., 2, 3, 4]) # all elements have same dtype\n",
        "print(\"list:\", t2, t2.dtype, t2.shape)\n",
        "\n",
        "# matrix\n",
        "t3 = torch.tensor([[5., 6], \n",
        "                   [7, 8], \n",
        "                   [9, 10]])\n",
        "print(\"matrix:\", t3.shape)\n",
        "\n",
        "# 3-dimensional\n",
        "t4 = torch.tensor([\n",
        "                   [[1, 1, 1], \n",
        "                    [1, 1, 1],\n",
        "                    [1, 1, 1],\n",
        "                    [1, 1, 1]],\n",
        "                   [[2, 2, 2], \n",
        "                    [2, 2, 2],\n",
        "                    [2, 2, 2],\n",
        "                    [2, 2, 2]]\n",
        "                   ])\n",
        "print(\"3d array:\", t4.shape)\n"
      ],
      "execution_count": 2,
      "outputs": [
        {
          "output_type": "stream",
          "text": [
            "number: tensor(4.) torch.float32 torch.Size([])\n",
            "list: tensor([1., 2., 3., 4.]) torch.float32 torch.Size([4])\n",
            "matrix: torch.Size([3, 2])\n",
            "3d array: torch.Size([2, 4, 3])\n"
          ],
          "name": "stdout"
        }
      ]
    },
    {
      "cell_type": "markdown",
      "metadata": {
        "id": "tQ2BILtC23q4"
      },
      "source": [
        "#Tensor Operations and Gradients"
      ]
    },
    {
      "cell_type": "code",
      "metadata": {
        "id": "otD12Of20hbE",
        "colab": {
          "base_uri": "https://localhost:8080/"
        },
        "outputId": "fbb8ac1b-aae6-4072-f73d-c1f3c04102d4"
      },
      "source": [
        "# basic tensor operation\n",
        "# creating tensors\n",
        "x = torch.tensor(69.)\n",
        "w = torch.tensor(4., requires_grad=True)\n",
        "b = torch.tensor(9., requires_grad=True)\n",
        "print(x, w, b)\n",
        "# arithmetic operations\n",
        "y = w * x + b\n",
        "print(y)"
      ],
      "execution_count": 3,
      "outputs": [
        {
          "output_type": "stream",
          "text": [
            "tensor(69.) tensor(4., requires_grad=True) tensor(9., requires_grad=True)\n",
            "tensor(285., grad_fn=<AddBackward0>)\n"
          ],
          "name": "stdout"
        }
      ]
    },
    {
      "cell_type": "code",
      "metadata": {
        "id": "kDTZlDCu3Kyo",
        "colab": {
          "base_uri": "https://localhost:8080/"
        },
        "outputId": "080f340e-f912-4cff-abb4-87a4501cdd46"
      },
      "source": [
        "# compute derivatives\n",
        "y.backward()\n",
        "print('dy/dx:', x.grad)\n",
        "print('dy/dw:', w.grad)\n",
        "print('dy/db:', b.grad)"
      ],
      "execution_count": 4,
      "outputs": [
        {
          "output_type": "stream",
          "text": [
            "dy/dx: None\n",
            "dy/dw: tensor(69.)\n",
            "dy/db: tensor(1.)\n"
          ],
          "name": "stdout"
        }
      ]
    },
    {
      "cell_type": "markdown",
      "metadata": {
        "id": "Qfu02kuiBIMo"
      },
      "source": [
        "#Interoperability with Numpy\n",
        "Mathematical and scientific computing in Python (efficient operations on large arrays). Many important supporting libaries (Matplotlib, OpenCV, Pandas)."
      ]
    },
    {
      "cell_type": "code",
      "metadata": {
        "id": "RBbfQO1QBHNc",
        "colab": {
          "base_uri": "https://localhost:8080/"
        },
        "outputId": "83a699e4-34f0-4d43-91a8-2331564f3617"
      },
      "source": [
        "import numpy as np\n",
        "\n",
        "x = np.array([[1, 2], [3, 4.]])\n",
        "print(x)\n",
        "\n",
        "y = torch.from_numpy(x)\n",
        "print(y)\n",
        "print(x.dtype, y.dtype)\n",
        "\n",
        "z = y.numpy()\n",
        "print(z)"
      ],
      "execution_count": 5,
      "outputs": [
        {
          "output_type": "stream",
          "text": [
            "[[1. 2.]\n",
            " [3. 4.]]\n",
            "tensor([[1., 2.],\n",
            "        [3., 4.]], dtype=torch.float64)\n",
            "float64 torch.float64\n",
            "[[1. 2.]\n",
            " [3. 4.]]\n"
          ],
          "name": "stdout"
        }
      ]
    }
  ]
}